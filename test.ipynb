{
 "cells": [
  {
   "cell_type": "code",
   "execution_count": 2,
   "metadata": {},
   "outputs": [],
   "source": [
    "import requests as reqs"
   ]
  },
  {
   "cell_type": "code",
   "execution_count": 15,
   "metadata": {},
   "outputs": [
    {
     "name": "stdout",
     "output_type": "stream",
     "text": [
      ". . . . . . . . . . . . . . . . . . . . . . . . . . . . . . . . . . . . . . . . . . . . . . . . . . . . . . . . . . . . . . . . . . . . . . . . . . . . . . . . . . . . . . . . . . . . . . . . . . . . . . . . . . . . . . . . . . . . . . . . . . . . . . . . . . . . . . . . . . . . . . . . . . . . . . . . . . . . . . . . . . . . . . . . . . . . . . . . . . . . . . . . . . . . . . . . . . . . . . . . . . . . . . . . . . . . . . . . . . . . . . . . . . . . . . . . . . . . . . . . . . . . . . . . . . . . . . . . . . . . . . . . . . . . . . . . . . . . . . . . . . . . . . . . . . . . . . . . . . . . . . . . . . . . . . . . . . . . . . . . . . . . . . . . . . . . . . . . . . . . . . . . . . . . . . . . . . . . . . . . . . . . . . . . . . . . . . . . . . . . . . . . . . . . . . . . . . . . . . . . . . . . . . . . . . . . . . . . . . . . . . . . . . . . . . . . . . . . . . . . . . . . . . . . . . . . . . . . . . . . . . . . . . . . . . . . . . . . . . . . . . . . . . . . . . . . . . . . . . . . \n",
      "Average time: 0.023365117999999997\n",
      "\n",
      "Average size: 1447.0\n"
     ]
    }
   ],
   "source": [
    "N = 500\n",
    "times = []\n",
    "sizes = []\n",
    "\n",
    "for i in range(N):\n",
    "    # res = reqs.get('http://localhost:8080/api/tags')\n",
    "    res = reqs.get('http://localhost:8080/render/tags')\n",
    "    times.append(res.elapsed.total_seconds())\n",
    "    sizes.append(len(res.content))\n",
    "    print('. ', end='')\n",
    "\n",
    "print(f'\\nAverage time: {sum(times)/N}')\n",
    "print(f'\\nAverage size: {sum(sizes)/N}')"
   ]
  },
  {
   "cell_type": "markdown",
   "metadata": {},
   "source": [
    "SSR\n",
    "\n",
    "Average time: 0.023365117999999997\n",
    "\n",
    "Average size: 1447.0\n",
    "\n",
    "MAIN\n",
    "\n",
    "Average time: 0.023412248000000028\n",
    "\n",
    "Average size: 152.0\n"
   ]
  }
 ],
 "metadata": {
  "kernelspec": {
   "display_name": "Python 3.10.5 64-bit (microsoft store)",
   "language": "python",
   "name": "python3"
  },
  "language_info": {
   "codemirror_mode": {
    "name": "ipython",
    "version": 3
   },
   "file_extension": ".py",
   "mimetype": "text/x-python",
   "name": "python",
   "nbconvert_exporter": "python",
   "pygments_lexer": "ipython3",
   "version": "3.10.5"
  },
  "orig_nbformat": 4,
  "vscode": {
   "interpreter": {
    "hash": "97fa89bd8bc7985012931dfe1dccc8ff95318af57acfcdfce6758fb0dd58ed07"
   }
  }
 },
 "nbformat": 4,
 "nbformat_minor": 2
}
